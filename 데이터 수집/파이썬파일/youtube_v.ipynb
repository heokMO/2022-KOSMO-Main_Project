{
 "cells": [
  {
   "cell_type": "code",
   "execution_count": 11,
   "id": "d1cc694b",
   "metadata": {
    "scrolled": true
   },
   "outputs": [
    {
     "name": "stdout",
     "output_type": "stream",
     "text": [
      "Requirement already satisfied: tqdm in c:\\ide\\anaconda3\\lib\\site-packages (4.62.3)\n",
      "Requirement already satisfied: colorama in c:\\ide\\anaconda3\\lib\\site-packages (from tqdm) (0.4.4)\n",
      "Note: you may need to restart the kernel to use updated packages.\n"
     ]
    }
   ],
   "source": [
    "pip install tqdm"
   ]
  },
  {
   "cell_type": "code",
   "execution_count": 9,
   "id": "112fc3d9",
   "metadata": {},
   "outputs": [],
   "source": [
    "import requests\n",
    "import re\n",
    "import json\n",
    "\n",
    "def get_watch_v(search_target):\n",
    "    url = 'https://www.youtube.com/results?search_query='\n",
    "    html = requests.get(url+search_target).text\n",
    "    matched = re.search(r'var ytInitialData = (.*?);', html, re.S)\n",
    "    json_string = matched.group(1)\n",
    "    result = json_string.split(\"/watch?v=\")[1].split('\"')[0]\n",
    "    return result"
   ]
  },
  {
   "cell_type": "code",
   "execution_count": 39,
   "id": "ffce2dfa",
   "metadata": {},
   "outputs": [
    {
     "name": "stderr",
     "output_type": "stream",
     "text": [
      "4it [00:04,  1.11s/it]\n"
     ]
    }
   ],
   "source": [
    "import cx_Oracle\n",
    "import csv\n",
    "from tqdm import tqdm\n",
    "\n",
    "db = cx_Oracle.connect(user=\"ateam\", password='1234',\n",
    "                               dsn=\"125.133.93.99:1521/xe\",\n",
    "                               encoding=\"UTF-8\")\n",
    "sql = 'select song_title, SONG_ARTIST from song'\n",
    "cursor = db.cursor()\n",
    "songs = cursor.execute(sql)\n",
    "song_v = {}\n",
    "for row in tqdm(cursor):\n",
    "    song_v[row] = get_watch_v(row[0]+ ' '+row[1])\n",
    "cursor.close()\n",
    "db.close()\n",
    "\n",
    "with open('song_v_file.csv','w') as f:\n",
    "    w = csv.writer(f)\n",
    "    w.writerow(song_v.keys())\n",
    "    w.writerow(song_v.values())"
   ]
  },
  {
   "cell_type": "code",
   "execution_count": 44,
   "id": "cec574a3",
   "metadata": {},
   "outputs": [
    {
     "name": "stdout",
     "output_type": "stream",
     "text": [
      "9"
     ]
    }
   ],
   "source": [
    "from sys import stdout\n",
    "from time import sleep\n",
    "\n",
    "for i in range(10):\n",
    "    stdout.write('\\r%d' % i)\n",
    "    stdout.flush()\n",
    "    sleep(1)"
   ]
  },
  {
   "cell_type": "code",
   "execution_count": 5,
   "id": "698ef3d7",
   "metadata": {},
   "outputs": [
    {
     "name": "stdout",
     "output_type": "stream",
     "text": [
      "['aespa', '에스파', 'Savage', 'æspa']\n"
     ]
    }
   ],
   "source": [
    "import requests\n",
    "import re\n",
    "import json\n",
    "\n",
    "url = 'https://www.youtube.com/watch?v=WPdWvnAAurg'\n",
    "html = requests.get(url).text\n",
    "matched = re.search(r'var ytInitialData = (.*?);', html, re.S)\n",
    "json_string = matched.group(1)\n",
    "keywords = []\n",
    "for keyword in json_string.split(\"#\")[1:]:\n",
    "    keyword = keyword.split('\"')[0]\n",
    "    if keyword not in keywords:\n",
    "        keywords.append(keyword)\n",
    "        \n",
    "print(keywords)"
   ]
  }
 ],
 "metadata": {
  "kernelspec": {
   "display_name": "Python 3 (ipykernel)",
   "language": "python",
   "name": "python3"
  },
  "language_info": {
   "codemirror_mode": {
    "name": "ipython",
    "version": 3
   },
   "file_extension": ".py",
   "mimetype": "text/x-python",
   "name": "python",
   "nbconvert_exporter": "python",
   "pygments_lexer": "ipython3",
   "version": "3.9.7"
  }
 },
 "nbformat": 4,
 "nbformat_minor": 5
}
